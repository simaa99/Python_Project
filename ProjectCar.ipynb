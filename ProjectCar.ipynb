{
  "nbformat": 4,
  "nbformat_minor": 0,
  "metadata": {
    "colab": {
      "name": "ProjectCar.ipynb",
      "provenance": [],
      "collapsed_sections": []
    },
    "kernelspec": {
      "name": "python3",
      "display_name": "Python 3"
    },
    "language_info": {
      "name": "python"
    }
  },
  "cells": [
    {
      "cell_type": "code",
      "metadata": {
        "id": "7kQL9GKt-sHP"
      },
      "source": [
        "import pandas as pd"
      ],
      "execution_count": null,
      "outputs": []
    },
    {
      "cell_type": "code",
      "metadata": {
        "id": "JeOBxfRW1tXM"
      },
      "source": [
        "SYSTEM = []"
      ],
      "execution_count": null,
      "outputs": []
    },
    {
      "cell_type": "markdown",
      "metadata": {
        "id": "Okw-4Xc-2lrJ"
      },
      "source": [
        "**Class to represent a car**"
      ]
    },
    {
      "cell_type": "code",
      "metadata": {
        "id": "OuagLjXw2vAE"
      },
      "source": [
        "class Car:\n",
        "  def __init__(self, car_id, model, year, km_travelled, price):\n",
        "    # assign the parameter's values to the attributes of the class\n",
        "        self.car_id = car_id  # ID \n",
        "        self.model = model  # Model \n",
        "        self.year = year  # Year of Production\n",
        "        self.km_travelled = km_travelled  # distance travelled\n",
        "        self.price = price  # price of the car"
      ],
      "execution_count": null,
      "outputs": []
    },
    {
      "cell_type": "markdown",
      "metadata": {
        "id": "i3fvhIxu5vrV"
      },
      "source": [
        "**Function to display menu to the user**"
      ]
    },
    {
      "cell_type": "code",
      "metadata": {
        "id": "NQSfh5s15yHT"
      },
      "source": [
        "def print_menu():\n",
        "    \n",
        "    print(\"1. ADD NEW CARS TO THE SYSTEM\")\n",
        "    print(\"2. FIND A CAR BASED ON ITS ID\")\n",
        "    print(\"3. UPDATE THE INFORMATION OF A SPECIFIC CAR\")\n",
        "    print(\"4. DELETE A CAR FROM THE SYSTEM\")\n",
        "    print(\"5. WRITE TO CSV FILE\")\n",
        "    print(\"6. EXIT THE PROGRAM\")\n",
        "    number = input(\"CHOOSE AN OPTION (1-6): \")\n",
        "\n",
        "    return number"
      ],
      "execution_count": null,
      "outputs": []
    },
    {
      "cell_type": "markdown",
      "metadata": {
        "id": "1v8RoRQD6cNZ"
      },
      "source": [
        "**Function to add new car to the system**"
      ]
    },
    {
      "cell_type": "code",
      "metadata": {
        "id": "G5M6888-6egO"
      },
      "source": [
        "def add_car():\n",
        "  \n",
        "    car_id = input(\"ENTER CAR'S ID: \")\n",
        "    model = input(\"ENTER CAR'S MODEL: \")\n",
        "    year = int(input(\"ENTER CAR'S YEAR OF PRODUCTION: \"))\n",
        "    travelled = float(input(\"ENTER DISTANCE TRAVELLED (IN KM): \"))\n",
        "    price = float(input(\"ENTER CAR'S PRICE (IN DOLLARS): \"))\n",
        "\n",
        "    new_car = Car(car_id, model, year, travelled, price)\n",
        "    found = False\n",
        "    for car in SYSTEM:\n",
        "        if car.car_id == car_id:\n",
        "            found = True\n",
        "            break\n",
        "\n",
        "    if found:\n",
        "        print(f\"CAR ID ({car_id}) ALREADY EXISTS IN THE SYSTEM !!!\")\n",
        "    else:\n",
        "        SYSTEM.append(new_car)"
      ],
      "execution_count": null,
      "outputs": []
    },
    {
      "cell_type": "markdown",
      "metadata": {
        "id": "_uQub2cyY6Gv"
      },
      "source": [
        "**Function to find car by ID**"
      ]
    },
    {
      "cell_type": "code",
      "metadata": {
        "id": "_Eq64bcFZU6y"
      },
      "source": [
        "def find_car_by_id():\n",
        "    \n",
        "    car_id = input(\"ENTER CAR'S ID: \")\n",
        "    found = False\n",
        "\n",
        "    for car in SYSTEM:\n",
        "        if car.car_id == car_id:\n",
        "            found = True\n",
        "            print(\"CAR FOUND:\")\n",
        "            print(\"%-14s%s\" % (\"ID:\", car.car_id))\n",
        "            print(\"%-14s%s\" % (\"MODEL:\", car.model))\n",
        "            print(\"%-14s%d\" % (\"YEAR:\", car.year))\n",
        "            print(\"%-14s%.2f KM\" % (\"KM TRAVELLED:\", car.km_travelled))\n",
        "            print(\"%-14s$%.2f\" % (\"PRICE:\", car.price))\n",
        "\n",
        "            break\n",
        "    if not found:\n",
        "        print(f\"CAR ID ({car_id}) DOES NOT EXISTS IN THE SYSTEM !!!\")"
      ],
      "execution_count": null,
      "outputs": []
    },
    {
      "cell_type": "markdown",
      "metadata": {
        "id": "-HwCd0x4ZeA2"
      },
      "source": [
        "**Function to update information of a specific car**"
      ]
    },
    {
      "cell_type": "code",
      "metadata": {
        "id": "vSzQFFZSZnFw"
      },
      "source": [
        "def update_car():\n",
        "\n",
        "    car_id = input(\"ENTER CAR'S ID: \")\n",
        "    print(\"WHAT DO YOU WANT TO UPDATE?\")\n",
        "    print(\"1. MODEL NAME\")\n",
        "    print(\"2. PRODUCTION YEAR\")\n",
        "    print(\"3. DISTANCE TRAVELLED\")\n",
        "    print(\"4. PRICE\")\n",
        "    ch = input(\"CHOOSE AN OPTION (1-4): \")\n",
        "\n",
        "    found = False\n",
        "    index = 0\n",
        "    for i, car in enumerate(SYSTEM):\n",
        "        if car.car_id == car_id:\n",
        "            index = i\n",
        "            found = True\n",
        "            break\n",
        "\n",
        "    if not found:\n",
        "        print(f\"CAR ID ({car_id}) DOES NOT EXISTS IN THE SYSTEM !!!\")\n",
        "        return\n",
        "\n",
        "    if ch == \"1\":\n",
        "        model = input(\"ENTER NEW MODEL NAME: \")\n",
        "        SYSTEM[index].model = model\n",
        "\n",
        "    elif ch == \"2\":\n",
        "        year = int(input(\"ENTER NEW YEAR: \"))\n",
        "        SYSTEM[index].year = year\n",
        "\n",
        "    elif ch == \"3\":\n",
        "        travelled = float(input(\"ENTER NEW DISTANCE TRAVELLED (IN KM): \"))\n",
        "        SYSTEM[index].km_travelled = travelled\n",
        "\n",
        "    elif ch == \"4\":\n",
        "        price = float(input(\"ENTER NEW PRICE (IN DOLLARS): \"))\n",
        "        SYSTEM[index].price = price\n",
        "\n",
        "    else:\n",
        "        print(\"INVALID OPTION !!!\")\n"
      ],
      "execution_count": null,
      "outputs": []
    },
    {
      "cell_type": "markdown",
      "metadata": {
        "id": "UiqFUr2cZ1Jb"
      },
      "source": [
        "**Function to delete a car from the system**"
      ]
    },
    {
      "cell_type": "code",
      "metadata": {
        "id": "NJH3EplLZ6dE"
      },
      "source": [
        "def delete_car():\n",
        "\n",
        "    car_id = input(\"ENTER CAR'S ID TO DELETE: \")\n",
        "\n",
        "    found = False\n",
        "    for car in SYSTEM:\n",
        "        if car.car_id == car_id:\n",
        "            found = True\n",
        "            SYSTEM.remove(car)\n",
        "            print(\"The car is delete from the system\")\n",
        "            break\n",
        "\n",
        "    if not found:\n",
        "        print(f\"CAR ID ({car_id}) DOES NOT EXISTS IN THE SYSTEM !!!\")\n",
        "\n"
      ],
      "execution_count": null,
      "outputs": []
    },
    {
      "cell_type": "markdown",
      "metadata": {
        "id": "PY_gB54RaAcT"
      },
      "source": [
        "**Function to write cars information to a CSV file**"
      ]
    },
    {
      "cell_type": "code",
      "metadata": {
        "id": "rL5WKs9PaFJr"
      },
      "source": [
        "def write_csv():\n",
        "  \n",
        "    dict_to_write = {\n",
        "        \"Car_ID\": [],\n",
        "        \"Model\": [],\n",
        "        \"Production_year\": [],\n",
        "        \"Kilometers_travelled\": [],\n",
        "        \"Price\": [],\n",
        "    }\n",
        "\n",
        "    for car in SYSTEM:\n",
        "        dict_to_write[\"Car_ID\"].append(car.car_id)\n",
        "        dict_to_write[\"Model\"].append(car.model)\n",
        "        dict_to_write[\"Production_year\"].append(car.year)\n",
        "        dict_to_write[\"Kilometers_travelled\"].append(car.km_travelled)\n",
        "        dict_to_write[\"Price\"].append(car.price)\n",
        "\n",
        "    df=pd.DataFrame(dict_to_write)\n",
        "    print('DataFrame Values:\\n',df)\n",
        "    csv_data = df.to_csv()\n",
        "    print('\\nCSV String Values:\\n',csv_data)\n"
      ],
      "execution_count": null,
      "outputs": []
    },
    {
      "cell_type": "code",
      "metadata": {
        "colab": {
          "base_uri": "https://localhost:8080/"
        },
        "id": "baK-p5Q-ah4B",
        "outputId": "efb3eb1f-2e41-4297-b26e-57bf25a2e1e4"
      },
      "source": [
        "if __name__ == \"__main__\":\n",
        "\n",
        "    while True:\n",
        "        ch = print_menu()\n",
        "        print()\n",
        "\n",
        "        if ch == \"1\":\n",
        "            add_car()\n",
        "        elif ch == \"2\":\n",
        "            find_car_by_id()\n",
        "        elif ch == \"3\":\n",
        "            update_car()\n",
        "        elif ch == \"4\":\n",
        "            delete_car()\n",
        "        elif ch == \"5\":\n",
        "            write_csv()\n",
        "        elif ch == \"6\":\n",
        "            print(\"THANK YOU FOR USING PROGRAMING\")\n",
        "            break\n",
        "        else:\n",
        "            print(\"INVALID OPTION !!!\")\n",
        "\n",
        "        print()"
      ],
      "execution_count": null,
      "outputs": [
        {
          "output_type": "stream",
          "name": "stdout",
          "text": [
            "1. ADD NEW CARS TO THE SYSTEM\n",
            "2. FIND A CAR BASED ON ITS ID\n",
            "3. UPDATE THE INFORMATION OF A SPECIFIC CAR\n",
            "4. DELETE A CAR FROM THE SYSTEM\n",
            "5. WRITE TO CSV FILE\n",
            "6. EXIT THE PROGRAM\n",
            "CHOOSE AN OPTION (1-6): 1\n",
            "\n",
            "ENTER CAR'S ID: 1\n",
            "ENTER CAR'S MODEL: Ford Mustang\n",
            "ENTER CAR'S YEAR OF PRODUCTION: 1965\n",
            "ENTER DISTANCE TRAVELLED (IN KM): 80\n",
            "ENTER CAR'S PRICE (IN DOLLARS): 13580\n",
            "\n",
            "1. ADD NEW CARS TO THE SYSTEM\n",
            "2. FIND A CAR BASED ON ITS ID\n",
            "3. UPDATE THE INFORMATION OF A SPECIFIC CAR\n",
            "4. DELETE A CAR FROM THE SYSTEM\n",
            "5. WRITE TO CSV FILE\n",
            "6. EXIT THE PROGRAM\n",
            "CHOOSE AN OPTION (1-6): 1\n",
            "\n",
            "ENTER CAR'S ID: 2\n",
            "ENTER CAR'S MODEL: Rolls Royce\n",
            "ENTER CAR'S YEAR OF PRODUCTION: 1904\n",
            "ENTER DISTANCE TRAVELLED (IN KM): 95\n",
            "ENTER CAR'S PRICE (IN DOLLARS): 13750\n",
            "\n",
            "1. ADD NEW CARS TO THE SYSTEM\n",
            "2. FIND A CAR BASED ON ITS ID\n",
            "3. UPDATE THE INFORMATION OF A SPECIFIC CAR\n",
            "4. DELETE A CAR FROM THE SYSTEM\n",
            "5. WRITE TO CSV FILE\n",
            "6. EXIT THE PROGRAM\n",
            "CHOOSE AN OPTION (1-6): 1\n",
            "\n",
            "ENTER CAR'S ID: 3\n",
            "ENTER CAR'S MODEL: Chevrolet Malibu\n",
            "ENTER CAR'S YEAR OF PRODUCTION: 1964\n",
            "ENTER DISTANCE TRAVELLED (IN KM): 556\n",
            "ENTER CAR'S PRICE (IN DOLLARS): 1782\n",
            "\n",
            "1. ADD NEW CARS TO THE SYSTEM\n",
            "2. FIND A CAR BASED ON ITS ID\n",
            "3. UPDATE THE INFORMATION OF A SPECIFIC CAR\n",
            "4. DELETE A CAR FROM THE SYSTEM\n",
            "5. WRITE TO CSV FILE\n",
            "6. EXIT THE PROGRAM\n",
            "CHOOSE AN OPTION (1-6): 1\n",
            "\n",
            "ENTER CAR'S ID: 4\n",
            "ENTER CAR'S MODEL: Bentley Bentayga\n",
            "ENTER CAR'S YEAR OF PRODUCTION: 1978\n",
            "ENTER DISTANCE TRAVELLED (IN KM): 650\n",
            "ENTER CAR'S PRICE (IN DOLLARS): 160000\n",
            "\n",
            "1. ADD NEW CARS TO THE SYSTEM\n",
            "2. FIND A CAR BASED ON ITS ID\n",
            "3. UPDATE THE INFORMATION OF A SPECIFIC CAR\n",
            "4. DELETE A CAR FROM THE SYSTEM\n",
            "5. WRITE TO CSV FILE\n",
            "6. EXIT THE PROGRAM\n",
            "CHOOSE AN OPTION (1-6): 1\n",
            "\n",
            "ENTER CAR'S ID: 5\n",
            "ENTER CAR'S MODEL: Aston Martin Vanquish\n",
            "ENTER CAR'S YEAR OF PRODUCTION: 1780\n",
            "ENTER DISTANCE TRAVELLED (IN KM): 45\n",
            "ENTER CAR'S PRICE (IN DOLLARS): 198000\n",
            "\n",
            "1. ADD NEW CARS TO THE SYSTEM\n",
            "2. FIND A CAR BASED ON ITS ID\n",
            "3. UPDATE THE INFORMATION OF A SPECIFIC CAR\n",
            "4. DELETE A CAR FROM THE SYSTEM\n",
            "5. WRITE TO CSV FILE\n",
            "6. EXIT THE PROGRAM\n",
            "CHOOSE AN OPTION (1-6): 1\n",
            "\n",
            "ENTER CAR'S ID: 6\n",
            "ENTER CAR'S MODEL: Cadillac\n",
            "ENTER CAR'S YEAR OF PRODUCTION: 2001\n",
            "ENTER DISTANCE TRAVELLED (IN KM): 60\n",
            "ENTER CAR'S PRICE (IN DOLLARS): 13000\n",
            "\n",
            "1. ADD NEW CARS TO THE SYSTEM\n",
            "2. FIND A CAR BASED ON ITS ID\n",
            "3. UPDATE THE INFORMATION OF A SPECIFIC CAR\n",
            "4. DELETE A CAR FROM THE SYSTEM\n",
            "5. WRITE TO CSV FILE\n",
            "6. EXIT THE PROGRAM\n",
            "CHOOSE AN OPTION (1-6): 1\n",
            "\n",
            "ENTER CAR'S ID: 7\n",
            "ENTER CAR'S MODEL: AMC Gremlin\n",
            "ENTER CAR'S YEAR OF PRODUCTION: 1980\n",
            "ENTER DISTANCE TRAVELLED (IN KM): 85\n",
            "ENTER CAR'S PRICE (IN DOLLARS): 14000\n",
            "\n",
            "1. ADD NEW CARS TO THE SYSTEM\n",
            "2. FIND A CAR BASED ON ITS ID\n",
            "3. UPDATE THE INFORMATION OF A SPECIFIC CAR\n",
            "4. DELETE A CAR FROM THE SYSTEM\n",
            "5. WRITE TO CSV FILE\n",
            "6. EXIT THE PROGRAM\n",
            "CHOOSE AN OPTION (1-6): 8\n",
            "\n",
            "INVALID OPTION !!!\n",
            "\n",
            "1. ADD NEW CARS TO THE SYSTEM\n",
            "2. FIND A CAR BASED ON ITS ID\n",
            "3. UPDATE THE INFORMATION OF A SPECIFIC CAR\n",
            "4. DELETE A CAR FROM THE SYSTEM\n",
            "5. WRITE TO CSV FILE\n",
            "6. EXIT THE PROGRAM\n",
            "CHOOSE AN OPTION (1-6): 1\n",
            "\n",
            "ENTER CAR'S ID: 8\n",
            "ENTER CAR'S MODEL: Porsche\n",
            "ENTER CAR'S YEAR OF PRODUCTION: 2006\n",
            "ENTER DISTANCE TRAVELLED (IN KM): 70\n",
            "ENTER CAR'S PRICE (IN DOLLARS): 140000\n",
            "\n",
            "1. ADD NEW CARS TO THE SYSTEM\n",
            "2. FIND A CAR BASED ON ITS ID\n",
            "3. UPDATE THE INFORMATION OF A SPECIFIC CAR\n",
            "4. DELETE A CAR FROM THE SYSTEM\n",
            "5. WRITE TO CSV FILE\n",
            "6. EXIT THE PROGRAM\n",
            "CHOOSE AN OPTION (1-6): 1\n",
            "\n",
            "ENTER CAR'S ID: 9\n",
            "ENTER CAR'S MODEL: Toyota\n",
            "ENTER CAR'S YEAR OF PRODUCTION: 1937\n",
            "ENTER DISTANCE TRAVELLED (IN KM): 60\n",
            "ENTER CAR'S PRICE (IN DOLLARS): 13000\n",
            "\n",
            "1. ADD NEW CARS TO THE SYSTEM\n",
            "2. FIND A CAR BASED ON ITS ID\n",
            "3. UPDATE THE INFORMATION OF A SPECIFIC CAR\n",
            "4. DELETE A CAR FROM THE SYSTEM\n",
            "5. WRITE TO CSV FILE\n",
            "6. EXIT THE PROGRAM\n",
            "CHOOSE AN OPTION (1-6): 1\n",
            "\n",
            "ENTER CAR'S ID: 10\n",
            "ENTER CAR'S MODEL: Nissan\n",
            "ENTER CAR'S YEAR OF PRODUCTION: 1930\n",
            "ENTER DISTANCE TRAVELLED (IN KM): 50\n",
            "ENTER CAR'S PRICE (IN DOLLARS): 13360\n",
            "\n",
            "1. ADD NEW CARS TO THE SYSTEM\n",
            "2. FIND A CAR BASED ON ITS ID\n",
            "3. UPDATE THE INFORMATION OF A SPECIFIC CAR\n",
            "4. DELETE A CAR FROM THE SYSTEM\n",
            "5. WRITE TO CSV FILE\n",
            "6. EXIT THE PROGRAM\n",
            "CHOOSE AN OPTION (1-6): 2\n",
            "\n",
            "ENTER CAR'S ID: 3\n",
            "CAR FOUND:\n",
            "ID:           3\n",
            "MODEL:        Chevrolet Malibu\n",
            "YEAR:         1964\n",
            "KM TRAVELLED: 556.00 KM\n",
            "PRICE:        $1782.00\n",
            "\n",
            "1. ADD NEW CARS TO THE SYSTEM\n",
            "2. FIND A CAR BASED ON ITS ID\n",
            "3. UPDATE THE INFORMATION OF A SPECIFIC CAR\n",
            "4. DELETE A CAR FROM THE SYSTEM\n",
            "5. WRITE TO CSV FILE\n",
            "6. EXIT THE PROGRAM\n",
            "CHOOSE AN OPTION (1-6): 3\n",
            "\n",
            "ENTER CAR'S ID: 6\n",
            "WHAT DO YOU WANT TO UPDATE?\n",
            "1. MODEL NAME\n",
            "2. PRODUCTION YEAR\n",
            "3. DISTANCE TRAVELLED\n",
            "4. PRICE\n",
            "CHOOSE AN OPTION (1-4): 1\n",
            "ENTER NEW MODEL NAME: Buick\n",
            "\n",
            "1. ADD NEW CARS TO THE SYSTEM\n",
            "2. FIND A CAR BASED ON ITS ID\n",
            "3. UPDATE THE INFORMATION OF A SPECIFIC CAR\n",
            "4. DELETE A CAR FROM THE SYSTEM\n",
            "5. WRITE TO CSV FILE\n",
            "6. EXIT THE PROGRAM\n",
            "CHOOSE AN OPTION (1-6): 2\n",
            "\n",
            "ENTER CAR'S ID: 6\n",
            "CAR FOUND:\n",
            "ID:           6\n",
            "MODEL:        Buick\n",
            "YEAR:         2001\n",
            "KM TRAVELLED: 60.00 KM\n",
            "PRICE:        $13000.00\n",
            "\n",
            "1. ADD NEW CARS TO THE SYSTEM\n",
            "2. FIND A CAR BASED ON ITS ID\n",
            "3. UPDATE THE INFORMATION OF A SPECIFIC CAR\n",
            "4. DELETE A CAR FROM THE SYSTEM\n",
            "5. WRITE TO CSV FILE\n",
            "6. EXIT THE PROGRAM\n",
            "CHOOSE AN OPTION (1-6): 4\n",
            "\n",
            "ENTER CAR'S ID TO DELETE: 10\n",
            "The car is delete from the system\n",
            "\n",
            "1. ADD NEW CARS TO THE SYSTEM\n",
            "2. FIND A CAR BASED ON ITS ID\n",
            "3. UPDATE THE INFORMATION OF A SPECIFIC CAR\n",
            "4. DELETE A CAR FROM THE SYSTEM\n",
            "5. WRITE TO CSV FILE\n",
            "6. EXIT THE PROGRAM\n",
            "CHOOSE AN OPTION (1-6): 5\n",
            "\n",
            "DataFrame Values:\n",
            "   Car_ID                  Model  ...  Kilometers_travelled     Price\n",
            "0      1           Ford Mustang  ...                  80.0   13580.0\n",
            "1      2            Rolls Royce  ...                  95.0   13750.0\n",
            "2      3       Chevrolet Malibu  ...                 556.0    1782.0\n",
            "3      4       Bentley Bentayga  ...                 650.0  160000.0\n",
            "4      5  Aston Martin Vanquish  ...                  45.0  198000.0\n",
            "5      6                  Buick  ...                  60.0   13000.0\n",
            "6      7            AMC Gremlin  ...                  85.0   14000.0\n",
            "7      8                Porsche  ...                  70.0  140000.0\n",
            "8      9                 Toyota  ...                  60.0   13000.0\n",
            "\n",
            "[9 rows x 5 columns]\n",
            "\n",
            "CSV String Values:\n",
            " ,Car_ID,Model,Production_year,Kilometers_travelled,Price\n",
            "0,1,Ford Mustang,1965,80.0,13580.0\n",
            "1,2,Rolls Royce,1904,95.0,13750.0\n",
            "2,3,Chevrolet Malibu,1964,556.0,1782.0\n",
            "3,4,Bentley Bentayga,1978,650.0,160000.0\n",
            "4,5,Aston Martin Vanquish,1780,45.0,198000.0\n",
            "5,6,Buick,2001,60.0,13000.0\n",
            "6,7,AMC Gremlin,1980,85.0,14000.0\n",
            "7,8,Porsche,2006,70.0,140000.0\n",
            "8,9,Toyota,1937,60.0,13000.0\n",
            "\n",
            "\n",
            "1. ADD NEW CARS TO THE SYSTEM\n",
            "2. FIND A CAR BASED ON ITS ID\n",
            "3. UPDATE THE INFORMATION OF A SPECIFIC CAR\n",
            "4. DELETE A CAR FROM THE SYSTEM\n",
            "5. WRITE TO CSV FILE\n",
            "6. EXIT THE PROGRAM\n",
            "CHOOSE AN OPTION (1-6): 6\n",
            "\n",
            "THANK YOU FOR USING PROGRAMING\n"
          ]
        }
      ]
    }
  ]
}